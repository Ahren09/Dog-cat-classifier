{
 "cells": [
  {
   "cell_type": "code",
   "execution_count": 5,
   "metadata": {},
   "outputs": [
    {
     "name": "stdout",
     "output_type": "stream",
     "text": [
      "cat\n"
     ]
    }
   ],
   "source": [
    "str = \"cat.12.jpg\"\n",
    "print(str.split('.')[0])"
   ]
  },
  {
   "cell_type": "code",
   "execution_count": 8,
   "metadata": {},
   "outputs": [
    {
     "name": "stdout",
     "output_type": "stream",
     "text": [
      "12\n"
     ]
    }
   ],
   "source": [
    "str2 = \"data/test/12.jpg\"\n",
    "\n",
    "print(str2.split('/')[2].split('.')[0])"
   ]
  },
  {
   "cell_type": "code",
   "execution_count": 10,
   "metadata": {
    "scrolled": true
   },
   "outputs": [],
   "source": [
    "from torchvision import transforms\n",
    "from PIL import Image\n",
    "crop = transforms.Scale(12)\n",
    "img = Image.open('/Users/jinyiqiao/Desktop/Git/DL/dogs-vs-cats-redux-kernels-edition/0.jpeg')\n",
    "img.show()"
   ]
  },
  {
   "cell_type": "code",
   "execution_count": 12,
   "metadata": {},
   "outputs": [],
   "source": [
    "img = crop(img)\n",
    "img.show()\n"
   ]
  },
  {
   "cell_type": "code",
   "execution_count": 13,
   "metadata": {},
   "outputs": [
    {
     "data": {
      "text/plain": [
       "'12.jpg'"
      ]
     },
     "execution_count": 13,
     "metadata": {},
     "output_type": "execute_result"
    }
   ],
   "source": [
    "str3 = \"what/is/data/test/12.jpg\"\n",
    "str3.split('/')[-1]"
   ]
  },
  {
   "cell_type": "code",
   "execution_count": 14,
   "metadata": {},
   "outputs": [
    {
     "data": {
      "text/plain": [
       "'12'"
      ]
     },
     "execution_count": 14,
     "metadata": {},
     "output_type": "execute_result"
    }
   ],
   "source": [
    "str3.split('/')[-1].split('.')[0]"
   ]
  },
  {
   "cell_type": "code",
   "execution_count": 15,
   "metadata": {},
   "outputs": [
    {
     "data": {
      "text/plain": [
       "'12'"
      ]
     },
     "execution_count": 15,
     "metadata": {},
     "output_type": "execute_result"
    }
   ],
   "source": [
    "str4 = \"what/is/data/test/cat.12.jpg\"\n",
    "str4.split('/')[-1].split('.')[1]"
   ]
  },
  {
   "cell_type": "code",
   "execution_count": 15,
   "metadata": {},
   "outputs": [
    {
     "data": {
      "image/png": "[encoded data removed]",
      "text/plain": [
       "<Figure size 432x288 with 1 Axes>"
      ]
     },
     "metadata": {},
     "output_type": "display_data"
    }
   ],
   "source": [
    "import matplotlib.pyplot as plt\n",
    "import numpy as np\n",
    "n = 12\n",
    "X = np.arange(n)\n",
    "Y1 = (1-X/float(n)) * np.random.uniform(0.5, 1.0, n)\n",
    "Y2 = (1-X/float(n)) * np.random.uniform(0.5, 1.0, n)\n",
    "\n",
    "plt.xlim(-.5, n)\n",
    "plt.xticks(())\n",
    "\n",
    "plt.ylim(-1.25, 1.25)\n",
    "plt.yticks(())\n",
    "\n",
    "plt.bar(X, +Y1, fc='#337777') # short for 'facecolor'\n",
    "plt.bar(X, -Y2, fc='#559999')\n",
    "\n",
    "for (x, y) in zip(X, Y1):\n",
    "    plt.text(x-0.4, y+0.05, '%.2f'%y, va='bottom')\n",
    "for (x, y) in zip(X, Y2):\n",
    "    plt.text(x-0.4, -y-0.05, '%.2f'%y, va='top')\n",
    "\n",
    "plt.show()"
   ]
  },
  {
   "cell_type": "code",
   "execution_count": null,
   "metadata": {},
   "outputs": [],
   "source": []
  }
 ],
 "metadata": {
  "kernelspec": {
   "display_name": "Python 3",
   "language": "python",
   "name": "python3"
  },
  "language_info": {
   "codemirror_mode": {
    "name": "ipython",
    "version": 3
   },
   "file_extension": ".py",
   "mimetype": "text/x-python",
   "name": "python",
   "nbconvert_exporter": "python",
   "pygments_lexer": "ipython3",
   "version": "3.7.3"
  }
 },
 "nbformat": 4,
 "nbformat_minor": 2
}
